{
 "cells": [
  {
   "cell_type": "markdown",
   "metadata": {},
   "source": [
    "# Movies Tonight Part 4: A few SELECT queries \n",
    "__Use `%%sql` magic to write the queries listed below.__"
   ]
  },
  {
   "cell_type": "code",
   "execution_count": 1,
   "metadata": {
    "collapsed": true
   },
   "outputs": [
    {
     "data": {
      "text/plain": [
       "'Connected: @movies.db;'"
      ]
     },
     "execution_count": 1,
     "metadata": {},
     "output_type": "execute_result"
    }
   ],
   "source": [
    "# load %sql magic extension\n",
    "%load_ext sql\n",
    "\n",
    "# initialize a database connection; may have to adjust username and password \n",
    "%sql sqlite:///movies.db;"
   ]
  },
  {
   "cell_type": "markdown",
   "metadata": {},
   "source": [
    "**1. Write a select query that returns the MovieTitle, TheaterName, and Showtime for each movie showing.**  \n",
    "The query should use `JOIN` syntax as described in your textbook. Also, use aliases ( `… AS …` ) to make sure that column names match exactly what is asked for. "
   ]
  },
  {
   "cell_type": "code",
   "execution_count": 6,
   "metadata": {
    "collapsed": true
   },
   "outputs": [
    {
     "name": "stdout",
     "output_type": "stream",
     "text": [
      " * sqlite:///movies.db;\n",
      "Done.\n"
     ]
    },
    {
     "data": {
      "text/html": [
       "<table>\n",
       "    <tr>\n",
       "        <th>MovieTitle</th>\n",
       "        <th>TheaterName</th>\n",
       "        <th>ShowTime</th>\n",
       "    </tr>\n",
       "    <tr>\n",
       "        <td>MTitle</td>\n",
       "        <td>Akarakian Theatres Moreno 4 Cinemas</td>\n",
       "        <td>4:20 PM</td>\n",
       "    </tr>\n",
       "    <tr>\n",
       "        <td>MTitle</td>\n",
       "        <td>Akarakian Theatres Moreno 4 Cinemas</td>\n",
       "        <td>7:20 PM</td>\n",
       "    </tr>\n",
       "    <tr>\n",
       "        <td>MTitle</td>\n",
       "        <td>Akarakian Theatres Moreno 4 Cinemas</td>\n",
       "        <td>9:40 PM</td>\n",
       "    </tr>\n",
       "    <tr>\n",
       "        <td>Associate, The</td>\n",
       "        <td>Akarakian Theatres Moreno 4 Cinemas</td>\n",
       "        <td>5:10 PM</td>\n",
       "    </tr>\n",
       "    <tr>\n",
       "        <td>Associate, The</td>\n",
       "        <td>Akarakian Theatres Moreno 4 Cinemas</td>\n",
       "        <td>9:00 PM</td>\n",
       "    </tr>\n",
       "</table>"
      ],
      "text/plain": [
       "[('MTitle', 'Akarakian Theatres Moreno 4 Cinemas', '4:20 PM'),\n",
       " ('MTitle', 'Akarakian Theatres Moreno 4 Cinemas', '7:20 PM'),\n",
       " ('MTitle', 'Akarakian Theatres Moreno 4 Cinemas', '9:40 PM'),\n",
       " ('Associate, The', 'Akarakian Theatres Moreno 4 Cinemas', '5:10 PM'),\n",
       " ('Associate, The', 'Akarakian Theatres Moreno 4 Cinemas', '9:00 PM')]"
      ]
     },
     "execution_count": 6,
     "metadata": {},
     "output_type": "execute_result"
    }
   ],
   "source": [
    "%%sql\n",
    "SELECT MTitle AS MovieTitle, TName AS TheaterName, STime AS ShowTime\n",
    "FROM MOVIES\n",
    "JOIN SHOWS ON MOVIES.MID = SHOWS.MID\n",
    "JOIN THEATERS ON THEATERS.TID = SHOWS.TID\n",
    "LIMIT 5;"
   ]
  },
  {
   "cell_type": "markdown",
   "metadata": {},
   "source": [
    "**2. Write a select query to display the MovieTitle, TheaterName, and Showtime for each show after 7pm.** You can start with a copy of the previous query and then add a `WHERE` clause. "
   ]
  },
  {
   "cell_type": "code",
   "execution_count": 7,
   "metadata": {
    "collapsed": true
   },
   "outputs": [
    {
     "name": "stdout",
     "output_type": "stream",
     "text": [
      " * sqlite:///movies.db;\n",
      "Done.\n"
     ]
    },
    {
     "data": {
      "text/html": [
       "<table>\n",
       "    <tr>\n",
       "        <th>MovieTitle</th>\n",
       "        <th>TheaterName</th>\n",
       "        <th>ShowTime</th>\n",
       "    </tr>\n",
       "    <tr>\n",
       "        <td>MTitle</td>\n",
       "        <td>Akarakian Theatres Moreno 4 Cinemas</td>\n",
       "        <td>7:20 PM</td>\n",
       "    </tr>\n",
       "    <tr>\n",
       "        <td>MTitle</td>\n",
       "        <td>Akarakian Theatres Moreno 4 Cinemas</td>\n",
       "        <td>9:40 PM</td>\n",
       "    </tr>\n",
       "    <tr>\n",
       "        <td>Associate, The</td>\n",
       "        <td>Akarakian Theatres Moreno 4 Cinemas</td>\n",
       "        <td>9:00 PM</td>\n",
       "    </tr>\n",
       "    <tr>\n",
       "        <td>Associate, The</td>\n",
       "        <td>Akarakian Theatres Moreno 4 Cinemas</td>\n",
       "        <td>9:05 PM</td>\n",
       "    </tr>\n",
       "    <tr>\n",
       "        <td>Ghost &amp; The Darkness, The</td>\n",
       "        <td>Akarakian Theatres Moreno 4 Cinemas</td>\n",
       "        <td>7:00 PM</td>\n",
       "    </tr>\n",
       "</table>"
      ],
      "text/plain": [
       "[('MTitle', 'Akarakian Theatres Moreno 4 Cinemas', '7:20 PM'),\n",
       " ('MTitle', 'Akarakian Theatres Moreno 4 Cinemas', '9:40 PM'),\n",
       " ('Associate, The', 'Akarakian Theatres Moreno 4 Cinemas', '9:00 PM'),\n",
       " ('Associate, The', 'Akarakian Theatres Moreno 4 Cinemas', '9:05 PM'),\n",
       " ('Ghost & The Darkness, The', 'Akarakian Theatres Moreno 4 Cinemas', '7:00 PM')]"
      ]
     },
     "execution_count": 7,
     "metadata": {},
     "output_type": "execute_result"
    }
   ],
   "source": [
    "%%sql\n",
    "SELECT MTitle AS MovieTitle, TName AS TheaterName, STime AS ShowTime\n",
    "FROM MOVIES\n",
    "JOIN SHOWS ON MOVIES.MID = SHOWS.MID\n",
    "JOIN THEATERS ON THEATERS.TID = SHOWS.TID\n",
    "WHERE STime > 7\n",
    "LIMIT 5;"
   ]
  },
  {
   "cell_type": "markdown",
   "metadata": {},
   "source": [
    "**3. Write a select query to display the cast (actors only) of each movie.** The query should return the Movie Title, Actor Name, MID, and AID. "
   ]
  },
  {
   "cell_type": "code",
   "execution_count": 24,
   "metadata": {
    "collapsed": true
   },
   "outputs": [
    {
     "name": "stdout",
     "output_type": "stream",
     "text": [
      " * sqlite:///movies.db;\n",
      "Done.\n"
     ]
    },
    {
     "data": {
      "text/html": [
       "<table>\n",
       "    <tr>\n",
       "        <th>MovieTitle</th>\n",
       "        <th>ActorName</th>\n",
       "        <th>MID</th>\n",
       "        <th>AID</th>\n",
       "    </tr>\n",
       "    <tr>\n",
       "        <td>MTitle</td>\n",
       "        <td>Austin Pendleton</td>\n",
       "        <td>1</td>\n",
       "        <td>1</td>\n",
       "    </tr>\n",
       "    <tr>\n",
       "        <td>MTitle</td>\n",
       "        <td>Bebe Neuwirth</td>\n",
       "        <td>1</td>\n",
       "        <td>2</td>\n",
       "    </tr>\n",
       "    <tr>\n",
       "        <td>MTitle</td>\n",
       "        <td>Dianne Wiest</td>\n",
       "        <td>1</td>\n",
       "        <td>3</td>\n",
       "    </tr>\n",
       "    <tr>\n",
       "        <td>MTitle</td>\n",
       "        <td>Eli Wallach</td>\n",
       "        <td>1</td>\n",
       "        <td>4</td>\n",
       "    </tr>\n",
       "    <tr>\n",
       "        <td>MTitle</td>\n",
       "        <td>Kenny Kerr</td>\n",
       "        <td>1</td>\n",
       "        <td>5</td>\n",
       "    </tr>\n",
       "</table>"
      ],
      "text/plain": [
       "[('MTitle', 'Austin Pendleton', 1, 1),\n",
       " ('MTitle', 'Bebe Neuwirth', 1, 2),\n",
       " ('MTitle', 'Dianne Wiest', 1, 3),\n",
       " ('MTitle', 'Eli Wallach', 1, 4),\n",
       " ('MTitle', 'Kenny Kerr', 1, 5)]"
      ]
     },
     "execution_count": 24,
     "metadata": {},
     "output_type": "execute_result"
    }
   ],
   "source": [
    "%%sql\n",
    "SELECT MTitle AS MovieTitle, AName AS ActorName, MOVIES.MID, ARTISTS.AID\n",
    "FROM MOVIES\n",
    "JOIN CREDITS ON MOVIES.MID = CREDITS.MID\n",
    "JOIN ARTISTS ON CREDITS.AID = ARTISTS.AID\n",
    "WHERE CCode = \"A\"\n",
    "LIMIT 5;"
   ]
  },
  {
   "cell_type": "markdown",
   "metadata": {},
   "source": [
    "**4. Write a select query to display the number of distinct movies that each actor appears in.** The query should return the ActorName, MovieCount, and AID. You will need to use use a GROUP BY clause and the COUNT() function. "
   ]
  },
  {
   "cell_type": "code",
   "execution_count": 34,
   "metadata": {
    "collapsed": true
   },
   "outputs": [
    {
     "name": "stdout",
     "output_type": "stream",
     "text": [
      " * sqlite:///movies.db;\n",
      "Done.\n"
     ]
    },
    {
     "data": {
      "text/html": [
       "<table>\n",
       "    <tr>\n",
       "        <th>ActorName</th>\n",
       "        <th>MovieCount</th>\n",
       "        <th>AID</th>\n",
       "    </tr>\n",
       "    <tr>\n",
       "        <td>Bill Murray</td>\n",
       "        <td>2</td>\n",
       "        <td>53</td>\n",
       "    </tr>\n",
       "    <tr>\n",
       "        <td>Diane Venora</td>\n",
       "        <td>2</td>\n",
       "        <td>100</td>\n",
       "    </tr>\n",
       "    <tr>\n",
       "        <td>Jada Pinkett</td>\n",
       "        <td>2</td>\n",
       "        <td>117</td>\n",
       "    </tr>\n",
       "    <tr>\n",
       "        <td>Minnie Driver</td>\n",
       "        <td>2</td>\n",
       "        <td>77</td>\n",
       "    </tr>\n",
       "    <tr>\n",
       "        <td>Vivica Fox</td>\n",
       "        <td>2</td>\n",
       "        <td>28</td>\n",
       "    </tr>\n",
       "</table>"
      ],
      "text/plain": [
       "[('Bill Murray', 2, 53),\n",
       " ('Diane Venora', 2, 100),\n",
       " ('Jada Pinkett', 2, 117),\n",
       " ('Minnie Driver', 2, 77),\n",
       " ('Vivica Fox', 2, 28)]"
      ]
     },
     "execution_count": 34,
     "metadata": {},
     "output_type": "execute_result"
    }
   ],
   "source": [
    "%%sql\n",
    "SELECT AName AS ActorName, COUNT(ARTISTS.AID) AS MovieCount, ARTISTS.AID\n",
    "FROM MOVIES\n",
    "JOIN CREDITS ON MOVIES.MID = CREDITS.MID\n",
    "JOIN ARTISTS ON CREDITS.AID = ARTISTS.AID\n",
    "WHERE CCode = \"A\"\n",
    "GROUP BY ARTISTS.AName\n",
    "ORDER BY COUNT(ARTISTS.AID) \n",
    "DESC\n",
    "LIMIT 5;"
   ]
  },
  {
   "cell_type": "markdown",
   "metadata": {},
   "source": [
    "**5. Write a select query to display only the actors that appear in multiple movies.** The query should return the Actor Name, Movie Count, and AID. You can use the previous select query as a starting point. You will need to add a HAVING clause to do the restriction. "
   ]
  },
  {
   "cell_type": "code",
   "execution_count": 35,
   "metadata": {
    "collapsed": true
   },
   "outputs": [
    {
     "name": "stdout",
     "output_type": "stream",
     "text": [
      " * sqlite:///movies.db;\n",
      "Done.\n"
     ]
    },
    {
     "data": {
      "text/html": [
       "<table>\n",
       "    <tr>\n",
       "        <th>ActorName</th>\n",
       "        <th>MovieCount</th>\n",
       "        <th>AID</th>\n",
       "    </tr>\n",
       "    <tr>\n",
       "        <td>Bill Murray</td>\n",
       "        <td>2</td>\n",
       "        <td>53</td>\n",
       "    </tr>\n",
       "    <tr>\n",
       "        <td>Diane Venora</td>\n",
       "        <td>2</td>\n",
       "        <td>100</td>\n",
       "    </tr>\n",
       "    <tr>\n",
       "        <td>Jada Pinkett</td>\n",
       "        <td>2</td>\n",
       "        <td>117</td>\n",
       "    </tr>\n",
       "    <tr>\n",
       "        <td>Minnie Driver</td>\n",
       "        <td>2</td>\n",
       "        <td>77</td>\n",
       "    </tr>\n",
       "    <tr>\n",
       "        <td>Vivica Fox</td>\n",
       "        <td>2</td>\n",
       "        <td>28</td>\n",
       "    </tr>\n",
       "</table>"
      ],
      "text/plain": [
       "[('Bill Murray', 2, 53),\n",
       " ('Diane Venora', 2, 100),\n",
       " ('Jada Pinkett', 2, 117),\n",
       " ('Minnie Driver', 2, 77),\n",
       " ('Vivica Fox', 2, 28)]"
      ]
     },
     "execution_count": 35,
     "metadata": {},
     "output_type": "execute_result"
    }
   ],
   "source": [
    "%%sql\n",
    "SELECT AName AS ActorName, COUNT(ARTISTS.AID) AS MovieCount, ARTISTS.AID\n",
    "FROM MOVIES\n",
    "JOIN CREDITS ON MOVIES.MID = CREDITS.MID\n",
    "JOIN ARTISTS ON CREDITS.AID = ARTISTS.AID\n",
    "WHERE CCode = \"A\"\n",
    "GROUP BY ARTISTS.AName\n",
    "HAVING COUNT (ARTISTS.AID) > 1\n",
    "ORDER BY COUNT(ARTISTS.AID) \n",
    "DESC\n",
    "LIMIT 5;"
   ]
  },
  {
   "cell_type": "markdown",
   "metadata": {},
   "source": [
    "**6. Write a select query to display directors that also act in their movies.** The query should return the ArtistName, NumDirectorCredits, NumActorCredits, NumDirectorActorCredits. Each count should be calculated separately using a subquery. Note: NumDirectorActorCredits should be greater than 0."
   ]
  },
  {
   "cell_type": "code",
   "execution_count": null,
   "metadata": {
    "collapsed": true
   },
   "outputs": [],
   "source": [
    "%%sql\n",
    "SELECT AName AS ActorName, COUNT(ARTISTS.AID) AS MovieCount, ARTISTS.AID\n",
    "FROM MOVIES\n",
    "JOIN CREDITS ON MOVIES.MID = CREDITS.MID\n",
    "JOIN ARTISTS ON CREDITS.AID = ARTISTS.AID\n",
    "WHERE CCode = \"A\"\n",
    "GROUP BY ARTISTS.AName\n",
    "HAVING COUNT (ARTISTS.AID) > 1\n",
    "ORDER BY COUNT(ARTISTS.AID) \n",
    "DESC\n",
    "LIMIT 5;"
   ]
  }
 ],
 "metadata": {
  "kernelspec": {
   "display_name": "Python 3",
   "language": "python",
   "name": "python3"
  },
  "language_info": {
   "codemirror_mode": {
    "name": "ipython",
    "version": 3
   },
   "file_extension": ".py",
   "mimetype": "text/x-python",
   "name": "python",
   "nbconvert_exporter": "python",
   "pygments_lexer": "ipython3",
   "version": "3.6.5"
  }
 },
 "nbformat": 4,
 "nbformat_minor": 2
}

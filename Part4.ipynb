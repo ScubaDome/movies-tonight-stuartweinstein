{
 "cells": [
  {
   "cell_type": "markdown",
   "metadata": {},
   "source": [
    "# Movies Tonight Part 4: A few SELECT queries \n",
    "__Use `%%sql` magic to write the queries listed below.__"
   ]
  },
  {
   "cell_type": "code",
   "execution_count": 1,
   "metadata": {
    "collapsed": true
   },
   "outputs": [
    {
     "data": {
      "text/plain": [
       "'Connected: @movies.db;'"
      ]
     },
     "execution_count": 1,
     "metadata": {},
     "output_type": "execute_result"
    }
   ],
   "source": [
    "# load %sql magic extension\n",
    "%load_ext sql\n",
    "\n",
    "# initialize a database connection; may have to adjust username and password \n",
    "%sql sqlite:///movies.db;"
   ]
  },
  {
   "cell_type": "markdown",
   "metadata": {},
   "source": [
    "**1. Write a select query that returns the MovieTitle, TheaterName, and Showtime for each movie showing.**  \n",
    "The query should use `JOIN` syntax as described in your textbook. Also, use aliases ( `… AS …` ) to make sure that column names match exactly what is asked for. "
   ]
  },
  {
   "cell_type": "code",
   "execution_count": 2,
   "metadata": {
    "collapsed": true
   },
   "outputs": [
    {
     "name": "stdout",
     "output_type": "stream",
     "text": [
      " * sqlite:///movies.db;\n",
      "Done.\n"
     ]
    },
    {
     "data": {
      "text/html": [
       "<table>\n",
       "    <tr>\n",
       "        <th>MovieTitle</th>\n",
       "    </tr>\n",
       "    <tr>\n",
       "        <td>MTitle</td>\n",
       "    </tr>\n",
       "    <tr>\n",
       "        <td>Associate, The</td>\n",
       "    </tr>\n",
       "    <tr>\n",
       "        <td>Ghost &amp; The Darkness, The</td>\n",
       "    </tr>\n",
       "    <tr>\n",
       "        <td>Independence Day</td>\n",
       "    </tr>\n",
       "    <tr>\n",
       "        <td>D3: The Mighty Ducks</td>\n",
       "    </tr>\n",
       "    <tr>\n",
       "        <td>Dear God</td>\n",
       "    </tr>\n",
       "    <tr>\n",
       "        <td>First Wives Club, The</td>\n",
       "    </tr>\n",
       "    <tr>\n",
       "        <td>High School High</td>\n",
       "    </tr>\n",
       "    <tr>\n",
       "        <td>Larger Than Life</td>\n",
       "    </tr>\n",
       "    <tr>\n",
       "        <td>Mirror Has Two Faces, The</td>\n",
       "    </tr>\n",
       "    <tr>\n",
       "        <td>Ransom</td>\n",
       "    </tr>\n",
       "    <tr>\n",
       "        <td>Sleepers</td>\n",
       "    </tr>\n",
       "    <tr>\n",
       "        <td>Space Jam</td>\n",
       "    </tr>\n",
       "    <tr>\n",
       "        <td>Stephen King&#x27;s Thinner</td>\n",
       "    </tr>\n",
       "    <tr>\n",
       "        <td>Michael Collins</td>\n",
       "    </tr>\n",
       "    <tr>\n",
       "        <td>Romeo &amp; Juliet</td>\n",
       "    </tr>\n",
       "    <tr>\n",
       "        <td>Big Night</td>\n",
       "    </tr>\n",
       "    <tr>\n",
       "        <td>Fly Away Home</td>\n",
       "    </tr>\n",
       "    <tr>\n",
       "        <td>Nutty Professor, The</td>\n",
       "    </tr>\n",
       "    <tr>\n",
       "        <td>Phenomenon</td>\n",
       "    </tr>\n",
       "    <tr>\n",
       "        <td>Set It Off</td>\n",
       "    </tr>\n",
       "    <tr>\n",
       "        <td>Surviving Picasso</td>\n",
       "    </tr>\n",
       "    <tr>\n",
       "        <td>Very Brady Sequel, A</td>\n",
       "    </tr>\n",
       "    <tr>\n",
       "        <td>That Thing You Do</td>\n",
       "    </tr>\n",
       "</table>"
      ],
      "text/plain": [
       "[('MTitle',),\n",
       " ('Associate, The',),\n",
       " ('Ghost & The Darkness, The',),\n",
       " ('Independence Day',),\n",
       " ('D3: The Mighty Ducks',),\n",
       " ('Dear God',),\n",
       " ('First Wives Club, The',),\n",
       " ('High School High',),\n",
       " ('Larger Than Life',),\n",
       " ('Mirror Has Two Faces, The',),\n",
       " ('Ransom',),\n",
       " ('Sleepers',),\n",
       " ('Space Jam',),\n",
       " (\"Stephen King's Thinner\",),\n",
       " ('Michael Collins',),\n",
       " ('Romeo & Juliet',),\n",
       " ('Big Night',),\n",
       " ('Fly Away Home',),\n",
       " ('Nutty Professor, The',),\n",
       " ('Phenomenon',),\n",
       " ('Set It Off',),\n",
       " ('Surviving Picasso',),\n",
       " ('Very Brady Sequel, A',),\n",
       " ('That Thing You Do',)]"
      ]
     },
     "execution_count": 2,
     "metadata": {},
     "output_type": "execute_result"
    }
   ],
   "source": [
    "%%sql\n",
    "SELECT MTitle AS MovieTitle\n",
    "FROM MOVIES;"
   ]
  },
  {
   "cell_type": "markdown",
   "metadata": {},
   "source": [
    "**2. Write a select query to display the MovieTitle, TheaterName, and Showtime for each show after 7pm.** You can start with a copy of the previous query and then add a `WHERE` clause. "
   ]
  },
  {
   "cell_type": "code",
   "execution_count": null,
   "metadata": {
    "collapsed": true
   },
   "outputs": [],
   "source": []
  },
  {
   "cell_type": "markdown",
   "metadata": {},
   "source": [
    "**3. Write a select query to display the cast (actors only) of each movie.** The query should return the Movie Title, Actor Name, MID, and AID. "
   ]
  },
  {
   "cell_type": "code",
   "execution_count": null,
   "metadata": {
    "collapsed": true
   },
   "outputs": [],
   "source": []
  },
  {
   "cell_type": "markdown",
   "metadata": {},
   "source": [
    "**4. Write a select query to display the number of distinct movies that each actor appears in.** The query should return the ActorName, MovieCount, and AID. You will need to use use a GROUP BY clause and the COUNT() function. "
   ]
  },
  {
   "cell_type": "code",
   "execution_count": null,
   "metadata": {
    "collapsed": true
   },
   "outputs": [],
   "source": []
  },
  {
   "cell_type": "markdown",
   "metadata": {},
   "source": [
    "**5. Write a select query to display only the actors that appear in multiple movies.** The query should return the Actor Name, Movie Count, and AID. You can use the previous select query as a starting point. You will need to add a HAVING clause to do the restriction. "
   ]
  },
  {
   "cell_type": "code",
   "execution_count": null,
   "metadata": {
    "collapsed": true
   },
   "outputs": [],
   "source": []
  },
  {
   "cell_type": "markdown",
   "metadata": {},
   "source": [
    "**6. Write a select query to display directors that also act in their movies.** The query should return the ArtistName, NumDirectorCredits, NumActorCredits, NumDirectorActorCredits. Each count should be calculated separately using a subquery. Note: NumDirectorActorCredits should be greater than 0."
   ]
  },
  {
   "cell_type": "code",
   "execution_count": null,
   "metadata": {
    "collapsed": true
   },
   "outputs": [],
   "source": []
  }
 ],
 "metadata": {
  "kernelspec": {
   "display_name": "Python 3",
   "language": "python",
   "name": "python3"
  },
  "language_info": {
   "codemirror_mode": {
    "name": "ipython",
    "version": 3
   },
   "file_extension": ".py",
   "mimetype": "text/x-python",
   "name": "python",
   "nbconvert_exporter": "python",
   "pygments_lexer": "ipython3",
   "version": "3.6.5"
  }
 },
 "nbformat": 4,
 "nbformat_minor": 2
}
